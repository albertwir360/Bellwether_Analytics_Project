{
 "cells": [
  {
   "cell_type": "code",
   "execution_count": 4,
   "metadata": {},
   "outputs": [
    {
     "name": "stdout",
     "output_type": "stream",
     "text": [
      "[]\n"
     ]
    }
   ],
   "source": [
    "import requests\n",
    "from bs4 import BeautifulSoup\n",
    "\n",
    "URL = 'https://www.invo.northwestern.edu/technologies/technologies/industry-pipelines/index.html'\n",
    "page = requests.get(URL)\n",
    "\n",
    "src = page.content\n",
    "\n",
    "soup = BeautifulSoup(src, 'lxml')\n",
    "\n",
    "atag = []\n",
    "for ul in soup.find_all(\"ul\", \"li\"):\n",
    "    a_tag = ul_tag.find('a', href = True)\n",
    "    atag.append(a_tag)\n",
    "\n",
    "urls = []\n",
    "for i in atag:\n",
    "    if i is not None:\n",
    "        urls.append(i['href'])\n",
    "\n",
    "base_URL = 'https://www.invo.northwestern.edu/technologies/technologies/industry-pipelines/'\n",
    "final_urls = []\n",
    "for i in urls:\n",
    "    final_string = \"\".join({base_URL, i})\n",
    "    final_urls.append(final_string)\n",
    "print(final_urls)"
   ]
  },
  {
   "cell_type": "code",
   "execution_count": null,
   "metadata": {},
   "outputs": [],
   "source": []
  },
  {
   "cell_type": "code",
   "execution_count": null,
   "metadata": {},
   "outputs": [],
   "source": []
  }
 ],
 "metadata": {
  "kernelspec": {
   "display_name": "Python 3",
   "language": "python",
   "name": "python3"
  },
  "language_info": {
   "codemirror_mode": {
    "name": "ipython",
    "version": 3
   },
   "file_extension": ".py",
   "mimetype": "text/x-python",
   "name": "python",
   "nbconvert_exporter": "python",
   "pygments_lexer": "ipython3",
   "version": "3.7.6"
  }
 },
 "nbformat": 4,
 "nbformat_minor": 4
}
